{
 "cells": [
  {
   "cell_type": "markdown",
   "metadata": {},
   "source": [
    "<h1>Explore additional info present in tags on openstreetmap toilets</h1>\n",
    "\n",
    "On top of the amenity=toilet tag identifying a public toilet, users can add additional tags to give more info on the toilet (https://wiki.openstreetmap.org/wiki/Tag:amenity%3Dtoilets).\n",
    "\n",
    "First I'm going to load the data. I'm using nested dict: tag > value > value count."
   ]
  },
  {
   "cell_type": "code",
   "execution_count": 1,
   "metadata": {},
   "outputs": [
    {
     "name": "stdout",
     "output_type": "stream",
     "text": [
      "True\n"
     ]
    }
   ],
   "source": [
    "from collections import defaultdict\n",
    "import json\n",
    "\n",
    "possible_tags = defaultdict(lambda: defaultdict(lambda: 0))\n",
    "toilet_count = 0\n",
    "\n",
    "with open(\"eu_toilets.json\", \"r\", encoding=\"utf-16-le\") as source:\n",
    "    for line in source:\n",
    "        entry = json.loads(line.replace(\"\\ufeff\", \"\"))\n",
    "        toilet_count += 1\n",
    "\n",
    "        for tag in entry[\"tags\"].keys():\n",
    "            possible_tags[tag][entry[\"tags\"][tag]] += 1\n",
    "\n",
    "# Sanity check on extraction quality, should be true since that's the target tag value\n",
    "print(toilet_count == possible_tags[\"amenity\"][\"toilets\"])"
   ]
  },
  {
   "cell_type": "markdown",
   "metadata": {},
   "source": [
    "<h2>Let's take a look at the most present tags in our data</h2>\n",
    "Collapsing the nested dict into a dict tag > tag count"
   ]
  },
  {
   "cell_type": "code",
   "execution_count": 2,
   "metadata": {},
   "outputs": [
    {
     "data": {
      "text/plain": [
       "[Tag(name='amenity', count=153378),\n",
       " Tag(name='fee', count=59543),\n",
       " Tag(name='wheelchair', count=52399),\n",
       " Tag(name='access', count=49521),\n",
       " Tag(name='toilets:disposal', count=30904),\n",
       " Tag(name='building', count=30338),\n",
       " Tag(name='unisex', count=23937),\n",
       " Tag(name='changing_table', count=19310),\n",
       " Tag(name='male', count=14016),\n",
       " Tag(name='female', count=13704)]"
      ]
     },
     "execution_count": 2,
     "metadata": {},
     "output_type": "execute_result"
    }
   ],
   "source": [
    "from dataclasses import dataclass\n",
    "\n",
    "@dataclass\n",
    "class Tag:\n",
    "    name: str\n",
    "    count: int\n",
    "\n",
    "\n",
    "tag_count = {tag: sum(c for c in possible_tags[tag].values()) for tag in possible_tags.keys()}\n",
    "tag_count_list = [Tag(name=name, count=tag_count[name]) for name in tag_count.keys()]\n",
    "tag_count_list.sort(key=lambda x: x.count, reverse=True)\n",
    "tag_count_list[:10]"
   ]
  },
  {
   "cell_type": "markdown",
   "metadata": {},
   "source": [
    "The most used tags seem related to toilets but unfortunately it looks like less than 50% of toilets have another tag. Since the data is crowdsourced it's possible than users do not add them often. Another explanation is that for more complex toilets represented as way and nodes the info is present but was not extracted. This info may be difficult to recover since the node containing it may not be directly linked to the toilet way/relation."
   ]
  },
  {
   "cell_type": "code",
   "execution_count": 3,
   "metadata": {},
   "outputs": [
    {
     "data": {
      "text/plain": [
       "[Tag(name='fee', count=59543),\n",
       " Tag(name='wheelchair', count=52399),\n",
       " Tag(name='access', count=49521),\n",
       " Tag(name='toilets:disposal', count=30904),\n",
       " Tag(name='unisex', count=23937),\n",
       " Tag(name='changing_table', count=19310),\n",
       " Tag(name='male', count=14016),\n",
       " Tag(name='female', count=13704),\n",
       " Tag(name='operator', count=11764),\n",
       " Tag(name='opening_hours', count=9913)]"
      ]
     },
     "execution_count": 3,
     "metadata": {},
     "output_type": "execute_result"
    }
   ],
   "source": [
    "# useful tags according to openstreetmap wiki\n",
    "\n",
    "wiki_tags = [\n",
    "    \"fee\",\n",
    "    \"opening_hours\",\n",
    "    \"wheelchair\",\n",
    "    \"changing_table\",\n",
    "    \"toilets:disposal\",\n",
    "    \"toilets:position\",\n",
    "    \"access\",\n",
    "    \"description\",\n",
    "    \"drinking_water\",\n",
    "    \"indoor\",\n",
    "    \"name\",\n",
    "    \"operator\",\n",
    "    \"supervised\",\n",
    "    \"female\",\n",
    "    \"male\",\n",
    "    \"unisex\",\n",
    "    \"child\",\n",
    "    \"gender_segregated\",\n",
    "]\n",
    "\n",
    "wik_tag_counts = [Tag(name=name, count=tag_count[name]) for name in wiki_tags]\n",
    "wik_tag_counts.sort(key=lambda x: x.count, reverse=True)\n",
    "wik_tag_counts[:10]"
   ]
  },
  {
   "cell_type": "markdown",
   "metadata": {},
   "source": [
    "No surprise here, the tag keys match the wiki description perfectly.\n",
    "\n",
    "<h2>Exploring tag values</h2>\n",
    "\n",
    "Let's see what's actually in the tag values. I'm going to focus on tag used on at least 25% on toilets so the top 3 most used tags.\n",
    "\n",
    "<h3>Fee: is the toilet free?</h3>"
   ]
  },
  {
   "cell_type": "code",
   "execution_count": 4,
   "metadata": {},
   "outputs": [
    {
     "data": {
      "text/plain": [
       "168"
      ]
     },
     "execution_count": 4,
     "metadata": {},
     "output_type": "execute_result"
    }
   ],
   "source": [
    "len(possible_tags[\"fee\"].keys())"
   ]
  },
  {
   "cell_type": "markdown",
   "metadata": {},
   "source": [
    "That's a lot of value. There is no constraint so user can enter what they want. There are likely invalid/non stard values in there. I'll filter by value with at least 5 use first."
   ]
  },
  {
   "cell_type": "code",
   "execution_count": 5,
   "metadata": {},
   "outputs": [
    {
     "data": {
      "text/plain": [
       "[('no', 48639),\n",
       " ('20p', 7),\n",
       " ('yes', 10544),\n",
       " ('0.50Ôé¼', 21),\n",
       " ('0.50 EUR', 8),\n",
       " ('Ôé¼0.50', 9),\n",
       " ('0.50', 6),\n",
       " ('0.5Ôé¼', 7),\n",
       " ('0,50Ôé¼', 6),\n",
       " ('2 PLN', 8),\n",
       " ('0.5', 14),\n",
       " ('donation', 30)]"
      ]
     },
     "execution_count": 5,
     "metadata": {},
     "output_type": "execute_result"
    }
   ],
   "source": [
    "[(x, possible_tags[\"fee\"][x]) for x in possible_tags[\"fee\"].keys() if possible_tags[\"fee\"][x] > 5]"
   ]
  },
  {
   "cell_type": "markdown",
   "metadata": {},
   "source": [
    "Looks like users used this field to specify the fee value."
   ]
  },
  {
   "cell_type": "code",
   "execution_count": 6,
   "metadata": {},
   "outputs": [
    {
     "data": {
      "text/plain": [
       "30"
      ]
     },
     "execution_count": 6,
     "metadata": {},
     "output_type": "execute_result"
    }
   ],
   "source": [
    "possible_tags[\"fee\"][\"donation\"]"
   ]
  },
  {
   "cell_type": "markdown",
   "metadata": {},
   "source": [
    "The tag is interesting but I'm not keeping it for just 30 values out of 156 000 toilets"
   ]
  },
  {
   "cell_type": "code",
   "execution_count": 7,
   "metadata": {},
   "outputs": [
    {
     "data": {
      "text/plain": [
       "[('no', 48639), ('yes', 10544)]"
      ]
     },
     "execution_count": 7,
     "metadata": {},
     "output_type": "execute_result"
    }
   ],
   "source": [
    "[(x, possible_tags[\"fee\"][x]) for x in possible_tags[\"fee\"].keys() if possible_tags[\"fee\"][x] > 50]"
   ]
  },
  {
   "cell_type": "markdown",
   "metadata": {},
   "source": [
    "Only yes and no have significant usage so I'm keeping them as valid value, it's the recommanded tagging policy on the wiki."
   ]
  },
  {
   "cell_type": "markdown",
   "metadata": {},
   "source": [
    "<h3>Wheelchair: is it accessible in wheelchair?</h3>"
   ]
  },
  {
   "cell_type": "code",
   "execution_count": 8,
   "metadata": {},
   "outputs": [
    {
     "data": {
      "text/plain": [
       "19"
      ]
     },
     "execution_count": 8,
     "metadata": {},
     "output_type": "execute_result"
    }
   ],
   "source": [
    "len(possible_tags[\"wheelchair\"].keys())"
   ]
  },
  {
   "cell_type": "code",
   "execution_count": 9,
   "metadata": {},
   "outputs": [
    {
     "data": {
      "text/plain": [
       "[('yes', 33163), ('no', 14845), ('designated', 704), ('limited', 3633)]"
      ]
     },
     "execution_count": 9,
     "metadata": {},
     "output_type": "execute_result"
    }
   ],
   "source": [
    "[(x, possible_tags[\"wheelchair\"][x]) for x in possible_tags[\"wheelchair\"].keys() if possible_tags[\"wheelchair\"][x] > 50]"
   ]
  },
  {
   "cell_type": "markdown",
   "metadata": {},
   "source": [
    "The wiki recommands only yes/no/limited but designated probably refers to toilets explicitly designed for wheelchair and has some usage so I'm keeping it."
   ]
  },
  {
   "cell_type": "markdown",
   "metadata": {},
   "source": [
    "<h3>Access: who can access it?</h3>"
   ]
  },
  {
   "cell_type": "code",
   "execution_count": 10,
   "metadata": {},
   "outputs": [
    {
     "data": {
      "text/plain": [
       "44"
      ]
     },
     "execution_count": 10,
     "metadata": {},
     "output_type": "execute_result"
    }
   ],
   "source": [
    "len(possible_tags[\"access\"].keys())"
   ]
  },
  {
   "cell_type": "code",
   "execution_count": 11,
   "metadata": {},
   "outputs": [
    {
     "data": {
      "text/plain": [
       "[('yes', 31563),\n",
       " ('customers', 12458),\n",
       " ('key', 51),\n",
       " ('no', 435),\n",
       " ('permissive', 2106),\n",
       " ('private', 2082),\n",
       " ('permit', 286),\n",
       " ('destination', 56),\n",
       " ('public', 337)]"
      ]
     },
     "execution_count": 11,
     "metadata": {},
     "output_type": "execute_result"
    }
   ],
   "source": [
    "[(x, possible_tags[\"access\"][x]) for x in possible_tags[\"access\"].keys() if possible_tags[\"access\"][x] > 50]"
   ]
  },
  {
   "cell_type": "markdown",
   "metadata": {},
   "source": [
    "Now this one is problematic. I'm targeting public toilets but this tag reveals some are actually not. I'm going to have to have to filter out toilets where access value is not yes or public."
   ]
  },
  {
   "cell_type": "code",
   "execution_count": 12,
   "metadata": {},
   "outputs": [
    {
     "data": {
      "text/plain": [
       "17621"
      ]
     },
     "execution_count": 12,
     "metadata": {},
     "output_type": "execute_result"
    }
   ],
   "source": [
    "n_not_public = sum(possible_tags[\"access\"][tag_value] for tag_value in possible_tags[\"access\"].keys() if tag_value not in (\"yes\", \"public\"))\n",
    "n_not_public"
   ]
  },
  {
   "cell_type": "code",
   "execution_count": 13,
   "metadata": {},
   "outputs": [
    {
     "data": {
      "text/plain": [
       "0.11488609839742336"
      ]
     },
     "execution_count": 13,
     "metadata": {},
     "output_type": "execute_result"
    }
   ],
   "source": [
    "n_not_public/toilet_count"
   ]
  },
  {
   "cell_type": "markdown",
   "metadata": {},
   "source": [
    "It looks like roughly 10% of the toilets in the data are not public. I need to filter them out before creating the elasticsearch index."
   ]
  }
 ],
 "metadata": {
  "kernelspec": {
   "display_name": "base",
   "language": "python",
   "name": "python3"
  },
  "language_info": {
   "codemirror_mode": {
    "name": "ipython",
    "version": 3
   },
   "file_extension": ".py",
   "mimetype": "text/x-python",
   "name": "python",
   "nbconvert_exporter": "python",
   "pygments_lexer": "ipython3",
   "version": "3.9.13"
  }
 },
 "nbformat": 4,
 "nbformat_minor": 2
}
